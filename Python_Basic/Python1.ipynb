{
 "cells": [
  {
   "cell_type": "markdown",
   "id": "2c9e1d69",
   "metadata": {},
   "source": [
    "# Python for Big Data\n",
    "\n",
    "1. Variables\n",
    "2. String\n",
    "3. Function print\n",
    "4. Booleanes y Condicionales\n",
    "5. Loops\n",
    "6. Functions\n",
    "7. Manejo de Excepciones"
   ]
  },
  {
   "cell_type": "markdown",
   "id": "8c6373e4",
   "metadata": {},
   "source": [
    "# 1. Variables"
   ]
  },
  {
   "cell_type": "markdown",
   "id": "e399d40f",
   "metadata": {},
   "source": [
    "# Variables\n",
    "Resultado"
   ]
  },
  {
   "cell_type": "code",
   "execution_count": 89,
   "id": "010946dd",
   "metadata": {},
   "outputs": [],
   "source": [
    "# Declarando variables\n",
    "monto_deuda = 1000  # Monto de la deuda inicial\n",
    "moneda = \"Soles\"  # Moneda de la deuda"
   ]
  },
  {
   "cell_type": "code",
   "execution_count": 90,
   "id": "b6733ce1",
   "metadata": {},
   "outputs": [
    {
     "data": {
      "text/plain": [
       "1000"
      ]
     },
     "execution_count": 90,
     "metadata": {},
     "output_type": "execute_result"
    }
   ],
   "source": [
    "# Mostrar variable\n",
    "monto_deuda"
   ]
  },
  {
   "cell_type": "code",
   "execution_count": 91,
   "id": "4c39307f",
   "metadata": {},
   "outputs": [
    {
     "data": {
      "text/plain": [
       "'Soles'"
      ]
     },
     "execution_count": 91,
     "metadata": {},
     "output_type": "execute_result"
    }
   ],
   "source": [
    "moneda"
   ]
  },
  {
   "cell_type": "code",
   "execution_count": 92,
   "id": "4e41d097",
   "metadata": {},
   "outputs": [],
   "source": [
    "# Interactuar con el usuario\n",
    "monto_interes = int(input(\"Ingrese el monto del interés: \"))"
   ]
  },
  {
   "cell_type": "code",
   "execution_count": 93,
   "id": "c773f1dd",
   "metadata": {},
   "outputs": [
    {
     "data": {
      "text/plain": [
       "4000"
      ]
     },
     "execution_count": 93,
     "metadata": {},
     "output_type": "execute_result"
    }
   ],
   "source": [
    "# Operando con variable\n",
    "resultado = monto_deuda*4\n",
    "resultado"
   ]
  },
  {
   "cell_type": "code",
   "execution_count": 94,
   "id": "30213ff9",
   "metadata": {},
   "outputs": [
    {
     "data": {
      "text/plain": [
       "int"
      ]
     },
     "execution_count": 94,
     "metadata": {},
     "output_type": "execute_result"
    }
   ],
   "source": [
    "# Tipo de variable\n",
    "type(monto_deuda)"
   ]
  },
  {
   "cell_type": "code",
   "execution_count": 95,
   "id": "075e721b",
   "metadata": {},
   "outputs": [
    {
     "data": {
      "text/plain": [
       "str"
      ]
     },
     "execution_count": 95,
     "metadata": {},
     "output_type": "execute_result"
    }
   ],
   "source": [
    "type(moneda)"
   ]
  },
  {
   "cell_type": "code",
   "execution_count": 96,
   "id": "0070ecb0",
   "metadata": {},
   "outputs": [
    {
     "data": {
      "text/plain": [
       "16000"
      ]
     },
     "execution_count": 96,
     "metadata": {},
     "output_type": "execute_result"
    }
   ],
   "source": [
    "# Operar variables\n",
    "4 * resultado"
   ]
  },
  {
   "cell_type": "code",
   "execution_count": 97,
   "id": "c9cdeccd",
   "metadata": {},
   "outputs": [
    {
     "data": {
      "text/plain": [
       "'1000'"
      ]
     },
     "execution_count": 97,
     "metadata": {},
     "output_type": "execute_result"
    }
   ],
   "source": [
    "# Cambiando tipo de variable\n",
    "str_monto_deuda = str(monto_deuda)\n",
    "str_monto_deuda"
   ]
  },
  {
   "cell_type": "code",
   "execution_count": 98,
   "id": "d51c775b",
   "metadata": {},
   "outputs": [
    {
     "data": {
      "text/plain": [
       "1000"
      ]
     },
     "execution_count": 98,
     "metadata": {},
     "output_type": "execute_result"
    }
   ],
   "source": [
    "int_monto_deuda = int(str_monto_deuda)\n",
    "int_monto_deuda"
   ]
  },
  {
   "cell_type": "markdown",
   "id": "4d9cc28b",
   "metadata": {},
   "source": [
    "# 2. String"
   ]
  },
  {
   "cell_type": "code",
   "execution_count": 99,
   "id": "668c26ee",
   "metadata": {},
   "outputs": [
    {
     "data": {
      "text/plain": [
       "'Hola'"
      ]
     },
     "execution_count": 99,
     "metadata": {},
     "output_type": "execute_result"
    }
   ],
   "source": [
    "# Concatenar \n",
    "'Ho' + 'la'"
   ]
  },
  {
   "cell_type": "code",
   "execution_count": 100,
   "id": "44979245",
   "metadata": {},
   "outputs": [],
   "source": [
    "# Comillas simples o dobles\n",
    "text_1 = \"Mi primer mensaje\"\n",
    "text_2 = 'Mi segundo mensaje'"
   ]
  },
  {
   "cell_type": "code",
   "execution_count": 101,
   "id": "2df0e063",
   "metadata": {},
   "outputs": [
    {
     "data": {
      "text/plain": [
       "'Mi primer mensaje'"
      ]
     },
     "execution_count": 101,
     "metadata": {},
     "output_type": "execute_result"
    }
   ],
   "source": [
    "text_1"
   ]
  },
  {
   "cell_type": "code",
   "execution_count": 102,
   "id": "7760c65e",
   "metadata": {},
   "outputs": [
    {
     "data": {
      "text/plain": [
       "'Mi segundo mensaje'"
      ]
     },
     "execution_count": 102,
     "metadata": {},
     "output_type": "execute_result"
    }
   ],
   "source": [
    "text_2"
   ]
  },
  {
   "cell_type": "code",
   "execution_count": 103,
   "id": "6ce3974a",
   "metadata": {},
   "outputs": [],
   "source": [
    "# Comillas triples\n",
    "consulta = \"\"\"SELECT * FROM User WHERE UserId = 1 GROUP BY UserName\"\"\""
   ]
  },
  {
   "cell_type": "code",
   "execution_count": 104,
   "id": "86a5b0c4",
   "metadata": {},
   "outputs": [
    {
     "data": {
      "text/plain": [
       "'SELECT * FROM User WHERE UserId = 1 GROUP BY UserName'"
      ]
     },
     "execution_count": 104,
     "metadata": {},
     "output_type": "execute_result"
    }
   ],
   "source": [
    "consulta"
   ]
  },
  {
   "cell_type": "code",
   "execution_count": 105,
   "id": "5fc8fd6d",
   "metadata": {},
   "outputs": [],
   "source": [
    "# Operaciones con String\n",
    "cadena1 = \"hola mundo\"\n",
    "cadena2 = \"5\"\n",
    "cadena3 = \"cinco\""
   ]
  },
  {
   "cell_type": "code",
   "execution_count": 106,
   "id": "6e6b7e47",
   "metadata": {},
   "outputs": [
    {
     "data": {
      "text/plain": [
       "'Hola mundo'"
      ]
     },
     "execution_count": 106,
     "metadata": {},
     "output_type": "execute_result"
    }
   ],
   "source": [
    "cadena1.capitalize()\n"
   ]
  },
  {
   "cell_type": "code",
   "execution_count": 107,
   "id": "c1574181",
   "metadata": {},
   "outputs": [
    {
     "data": {
      "text/plain": [
       "'CINCO'"
      ]
     },
     "execution_count": 107,
     "metadata": {},
     "output_type": "execute_result"
    }
   ],
   "source": [
    "cadena3.upper()"
   ]
  },
  {
   "cell_type": "code",
   "execution_count": 108,
   "id": "def7aa49",
   "metadata": {},
   "outputs": [
    {
     "data": {
      "text/plain": [
       "'cinco'"
      ]
     },
     "execution_count": 108,
     "metadata": {},
     "output_type": "execute_result"
    }
   ],
   "source": [
    "cadena3.lower()"
   ]
  },
  {
   "cell_type": "code",
   "execution_count": 109,
   "id": "4b41891f",
   "metadata": {},
   "outputs": [
    {
     "data": {
      "text/plain": [
       "'Hola Mundo'"
      ]
     },
     "execution_count": 109,
     "metadata": {},
     "output_type": "execute_result"
    }
   ],
   "source": [
    "cadena1.title()"
   ]
  },
  {
   "cell_type": "code",
   "execution_count": 110,
   "id": "a4e6227a",
   "metadata": {},
   "outputs": [
    {
     "data": {
      "text/plain": [
       "['hola', 'mundo']"
      ]
     },
     "execution_count": 110,
     "metadata": {},
     "output_type": "execute_result"
    }
   ],
   "source": [
    "cadena1.split()"
   ]
  },
  {
   "cell_type": "code",
   "execution_count": 111,
   "id": "09e7236b",
   "metadata": {},
   "outputs": [
    {
     "data": {
      "text/plain": [
       "2"
      ]
     },
     "execution_count": 111,
     "metadata": {},
     "output_type": "execute_result"
    }
   ],
   "source": [
    "cadena1.count(\"o\")"
   ]
  },
  {
   "cell_type": "code",
   "execution_count": 112,
   "id": "ae4e356d",
   "metadata": {},
   "outputs": [
    {
     "data": {
      "text/plain": [
       "10"
      ]
     },
     "execution_count": 112,
     "metadata": {},
     "output_type": "execute_result"
    }
   ],
   "source": [
    "# Longitud de cadena\n",
    "len(cadena1)"
   ]
  },
  {
   "cell_type": "code",
   "execution_count": 113,
   "id": "cd096426",
   "metadata": {},
   "outputs": [
    {
     "data": {
      "text/plain": [
       "['hola ', 'undo']"
      ]
     },
     "execution_count": 113,
     "metadata": {},
     "output_type": "execute_result"
    }
   ],
   "source": [
    "# Quitar letra string\n",
    "cadena1.split(\"m\")"
   ]
  },
  {
   "cell_type": "code",
   "execution_count": 114,
   "id": "9a5d015d",
   "metadata": {},
   "outputs": [
    {
     "data": {
      "text/plain": [
       "'(Hola Mundo),'"
      ]
     },
     "execution_count": 114,
     "metadata": {},
     "output_type": "execute_result"
    }
   ],
   "source": [
    "# Limpiando extremo string\n",
    "cadena4 = \"(Hola Mundo),\"\n",
    "cadena4.strip()"
   ]
  },
  {
   "cell_type": "code",
   "execution_count": 115,
   "id": "0422e261",
   "metadata": {},
   "outputs": [
    {
     "data": {
      "text/plain": [
       "'Hola Mundo'"
      ]
     },
     "execution_count": 115,
     "metadata": {},
     "output_type": "execute_result"
    }
   ],
   "source": [
    "cadena4.strip(\"(),\")"
   ]
  },
  {
   "cell_type": "code",
   "execution_count": 116,
   "id": "bde1153f",
   "metadata": {},
   "outputs": [
    {
     "data": {
      "text/plain": [
       "'Hola Amigo'"
      ]
     },
     "execution_count": 116,
     "metadata": {},
     "output_type": "execute_result"
    }
   ],
   "source": [
    "# Remplazar string\n",
    "cadena5 = \"Hola Mundo\"\n",
    "cadena5.replace(\"Mundo\", \"Amigo\")"
   ]
  },
  {
   "cell_type": "code",
   "execution_count": 117,
   "id": "f6ca7603",
   "metadata": {},
   "outputs": [
    {
     "data": {
      "text/plain": [
       "1"
      ]
     },
     "execution_count": 117,
     "metadata": {},
     "output_type": "execute_result"
    }
   ],
   "source": [
    "cadena5.index('o')"
   ]
  },
  {
   "cell_type": "code",
   "execution_count": 118,
   "id": "c5cd55f8",
   "metadata": {},
   "outputs": [
    {
     "data": {
      "text/plain": [
       "9"
      ]
     },
     "execution_count": 118,
     "metadata": {},
     "output_type": "execute_result"
    }
   ],
   "source": [
    "cadena5.index('o', 6)"
   ]
  },
  {
   "cell_type": "code",
   "execution_count": 119,
   "id": "125c0393",
   "metadata": {},
   "outputs": [
    {
     "data": {
      "text/plain": [
       "'a'"
      ]
     },
     "execution_count": 119,
     "metadata": {},
     "output_type": "execute_result"
    }
   ],
   "source": [
    "cadena5[3]"
   ]
  },
  {
   "cell_type": "code",
   "execution_count": 120,
   "id": "75eb9f68",
   "metadata": {},
   "outputs": [
    {
     "data": {
      "text/plain": [
       "'la M'"
      ]
     },
     "execution_count": 120,
     "metadata": {},
     "output_type": "execute_result"
    }
   ],
   "source": [
    "cadena5[2:-4]"
   ]
  },
  {
   "cell_type": "code",
   "execution_count": 121,
   "id": "86022c5f",
   "metadata": {},
   "outputs": [
    {
     "data": {
      "text/plain": [
       "'Hola Mundo'"
      ]
     },
     "execution_count": 121,
     "metadata": {},
     "output_type": "execute_result"
    }
   ],
   "source": [
    "cadena5[::1]"
   ]
  },
  {
   "cell_type": "code",
   "execution_count": 122,
   "id": "c6e050c1",
   "metadata": {},
   "outputs": [
    {
     "data": {
      "text/plain": [
       "['HOLA', 'MUNDO']"
      ]
     },
     "execution_count": 122,
     "metadata": {},
     "output_type": "execute_result"
    }
   ],
   "source": [
    "cadena5.strip('(), ').upper().split()"
   ]
  },
  {
   "cell_type": "code",
   "execution_count": 123,
   "id": "69145869",
   "metadata": {},
   "outputs": [
    {
     "data": {
      "text/plain": [
       "'Hola Arnold, bienvenido al curso de Tópicos especiales en inteligencia de negocios'"
      ]
     },
     "execution_count": 123,
     "metadata": {},
     "output_type": "execute_result"
    }
   ],
   "source": [
    "nombre = \"Arnold\"\n",
    "curso = \"Tópicos especiales en inteligencia de negocios\"\n",
    "f'Hola {nombre}, bienvenido al curso de {curso}'"
   ]
  },
  {
   "cell_type": "code",
   "execution_count": 124,
   "id": "41530f5b",
   "metadata": {},
   "outputs": [],
   "source": [
    "string1 = \"Hola mundo\"\n",
    "string2 = \"5\"\n",
    "string3 = \"cinco\""
   ]
  },
  {
   "cell_type": "code",
   "execution_count": 125,
   "id": "d5703590",
   "metadata": {},
   "outputs": [
    {
     "data": {
      "text/plain": [
       "False"
      ]
     },
     "execution_count": 125,
     "metadata": {},
     "output_type": "execute_result"
    }
   ],
   "source": [
    "string1.isdigit()"
   ]
  },
  {
   "cell_type": "code",
   "execution_count": 126,
   "id": "2f888580",
   "metadata": {},
   "outputs": [
    {
     "data": {
      "text/plain": [
       "True"
      ]
     },
     "execution_count": 126,
     "metadata": {},
     "output_type": "execute_result"
    }
   ],
   "source": [
    "string3.isalpha()"
   ]
  },
  {
   "cell_type": "code",
   "execution_count": 127,
   "id": "6114c410",
   "metadata": {},
   "outputs": [
    {
     "data": {
      "text/plain": [
       "'abcdefghijklmnopqrstuvwxyzABCDEFGHIJKLMNOPQRSTUVWXYZ'"
      ]
     },
     "execution_count": 127,
     "metadata": {},
     "output_type": "execute_result"
    }
   ],
   "source": [
    "import string\n",
    "string.ascii_letters"
   ]
  },
  {
   "cell_type": "code",
   "execution_count": 128,
   "id": "bb66335c",
   "metadata": {},
   "outputs": [
    {
     "data": {
      "text/plain": [
       "'abcdefghijklmnopqrstuvwxyz'"
      ]
     },
     "execution_count": 128,
     "metadata": {},
     "output_type": "execute_result"
    }
   ],
   "source": [
    "string.ascii_lowercase"
   ]
  },
  {
   "cell_type": "code",
   "execution_count": 129,
   "id": "d7f86aa5",
   "metadata": {},
   "outputs": [
    {
     "data": {
      "text/plain": [
       "'ABCDEFGHIJKLMNOPQRSTUVWXYZ'"
      ]
     },
     "execution_count": 129,
     "metadata": {},
     "output_type": "execute_result"
    }
   ],
   "source": [
    "string.ascii_uppercase"
   ]
  },
  {
   "cell_type": "code",
   "execution_count": 130,
   "id": "4588d611",
   "metadata": {},
   "outputs": [
    {
     "name": "stdout",
     "output_type": "stream",
     "text": [
      "Hola mundo\n"
     ]
    }
   ],
   "source": [
    "print(string1)"
   ]
  },
  {
   "cell_type": "code",
   "execution_count": 131,
   "id": "1da5624d",
   "metadata": {},
   "outputs": [
    {
     "name": "stdout",
     "output_type": "stream",
     "text": [
      "<class 'module'>\n"
     ]
    }
   ],
   "source": [
    "print(type(string))"
   ]
  },
  {
   "cell_type": "code",
   "execution_count": 132,
   "id": "51621b39",
   "metadata": {},
   "outputs": [
    {
     "name": "stdout",
     "output_type": "stream",
     "text": [
      "<class 'int'>\n"
     ]
    }
   ],
   "source": [
    "print(type(5))"
   ]
  },
  {
   "cell_type": "code",
   "execution_count": 133,
   "id": "7be9cc52",
   "metadata": {},
   "outputs": [
    {
     "name": "stdout",
     "output_type": "stream",
     "text": [
      "Mi nombre es: Arnold\n",
      "Mi nombre es: Arnold\n"
     ]
    }
   ],
   "source": [
    "print(\"Mi nombre es: \" + nombre)\n",
    "print(f'Mi nombre es: {nombre}')"
   ]
  },
  {
   "cell_type": "code",
   "execution_count": 134,
   "id": "08358986",
   "metadata": {},
   "outputs": [
    {
     "name": "stdout",
     "output_type": "stream",
     "text": [
      "Los datos del curso son: \n",
      "Curso\t\t:\t\tTópicos especiales en inteligencia de negocios\n",
      "Ciclo\t\t:\t\tSexto\n",
      "Tipo\t\t:\t\tElectivo\n"
     ]
    }
   ],
   "source": [
    "print(\"Los datos del curso son: \\nCurso\\t\\t:\\t\\tTópicos especiales en inteligencia de negocios\\nCiclo\\t\\t:\\t\\tSexto\\nTipo\\t\\t:\\t\\tElectivo\")"
   ]
  },
  {
   "cell_type": "code",
   "execution_count": null,
   "id": "4d1dcb56",
   "metadata": {},
   "outputs": [
    {
     "name": "stdout",
     "output_type": "stream",
     "text": [
      "<class 'bool'>\n"
     ]
    }
   ],
   "source": [
    "final_pag = True\n",
    "print(type(final_pag))"
   ]
  },
  {
   "cell_type": "code",
   "execution_count": 139,
   "id": "b53c0513",
   "metadata": {},
   "outputs": [
    {
     "name": "stdout",
     "output_type": "stream",
     "text": [
      "Continuar leyendo...\n"
     ]
    }
   ],
   "source": [
    "if final_pag == True:\n",
    "    print(\"Final de la pagina\")\n",
    "else:\n",
    "    print(\"Continuar leyendo...\")"
   ]
  },
  {
   "cell_type": "code",
   "execution_count": 140,
   "id": "a9453eb4",
   "metadata": {},
   "outputs": [
    {
     "data": {
      "text/plain": [
       "False"
      ]
     },
     "execution_count": 140,
     "metadata": {},
     "output_type": "execute_result"
    }
   ],
   "source": [
    "# Operadores Logicos\n",
    "not True"
   ]
  },
  {
   "cell_type": "code",
   "execution_count": 141,
   "id": "99fb4919",
   "metadata": {},
   "outputs": [
    {
     "data": {
      "text/plain": [
       "True"
      ]
     },
     "execution_count": 141,
     "metadata": {},
     "output_type": "execute_result"
    }
   ],
   "source": [
    "not False"
   ]
  },
  {
   "cell_type": "code",
   "execution_count": 142,
   "id": "3537bafd",
   "metadata": {},
   "outputs": [
    {
     "data": {
      "text/plain": [
       "True"
      ]
     },
     "execution_count": 142,
     "metadata": {},
     "output_type": "execute_result"
    }
   ],
   "source": [
    "True and True"
   ]
  },
  {
   "cell_type": "code",
   "execution_count": 143,
   "id": "77177f60",
   "metadata": {},
   "outputs": [
    {
     "data": {
      "text/plain": [
       "False"
      ]
     },
     "execution_count": 143,
     "metadata": {},
     "output_type": "execute_result"
    }
   ],
   "source": [
    "True and False"
   ]
  },
  {
   "cell_type": "code",
   "execution_count": 144,
   "id": "15846d12",
   "metadata": {},
   "outputs": [
    {
     "data": {
      "text/plain": [
       "True"
      ]
     },
     "execution_count": 144,
     "metadata": {},
     "output_type": "execute_result"
    }
   ],
   "source": [
    "True or False"
   ]
  },
  {
   "cell_type": "code",
   "execution_count": 147,
   "id": "4ef6c783",
   "metadata": {},
   "outputs": [
    {
     "data": {
      "text/plain": [
       "False"
      ]
     },
     "execution_count": 147,
     "metadata": {},
     "output_type": "execute_result"
    }
   ],
   "source": [
    "#Comparacion\n",
    "1 < 1"
   ]
  },
  {
   "cell_type": "code",
   "execution_count": 149,
   "id": "a39cd81d",
   "metadata": {},
   "outputs": [
    {
     "name": "stdout",
     "output_type": "stream",
     "text": [
      "H\n",
      "o\n",
      "l\n",
      "a\n",
      " \n",
      "m\n",
      "u\n",
      "n\n",
      "d\n",
      "o\n"
     ]
    }
   ],
   "source": [
    "for letra in \"Hola mundo\":\n",
    "    print(letra)"
   ]
  },
  {
   "cell_type": "code",
   "execution_count": 155,
   "id": "57537f9f",
   "metadata": {},
   "outputs": [
    {
     "name": "stdout",
     "output_type": "stream",
     "text": [
      "Palabras: ['Hola', 'a', 'todos']\n"
     ]
    }
   ],
   "source": [
    "my_string = \"Hola a todos\"\n",
    "palabras = my_string.split()\n",
    "print(f'Palabras: {palabras}')"
   ]
  },
  {
   "cell_type": "code",
   "execution_count": 156,
   "id": "539cbe82",
   "metadata": {},
   "outputs": [
    {
     "name": "stdout",
     "output_type": "stream",
     "text": [
      "['Hola', 'a', 'todos']\n",
      "['Hola', 'a', 'todos']\n",
      "['Hola', 'a', 'todos']\n"
     ]
    }
   ],
   "source": [
    "for palabra in palabras:\n",
    "    print(palabras)"
   ]
  },
  {
   "cell_type": "code",
   "execution_count": 157,
   "id": "01de29b7",
   "metadata": {},
   "outputs": [
    {
     "name": "stdout",
     "output_type": "stream",
     "text": [
      "Palabra 0: Hola\n",
      "Palabra 1: a\n",
      "Palabra 2: todos\n"
     ]
    }
   ],
   "source": [
    "for idx, palabra in enumerate(palabras):\n",
    "    print(f'Palabra {idx}: {palabra}')"
   ]
  },
  {
   "cell_type": "code",
   "execution_count": 162,
   "id": "8a46ac21",
   "metadata": {},
   "outputs": [
    {
     "name": "stdout",
     "output_type": "stream",
     "text": [
      "El numero de intento 1\n",
      "El numero de intento 2\n",
      "El numero de intento 3\n",
      "El numero de intento 4\n",
      "El numero de intento 5\n",
      "El numero de intento 6\n",
      "El numero de intento 7\n",
      "El numero de intento 8\n",
      "El numero de intento 9\n",
      "El numero de intento 10\n"
     ]
    }
   ],
   "source": [
    "#Trabajando while loops\n",
    "max_intentos = 10\n",
    "intento = 1\n",
    "while intento <= max_intentos:\n",
    "    print(f'El numero de intento {intento}')\n",
    "    intento += 1"
   ]
  }
 ],
 "metadata": {
  "kernelspec": {
   "display_name": "myenv",
   "language": "python",
   "name": "python3"
  },
  "language_info": {
   "codemirror_mode": {
    "name": "ipython",
    "version": 3
   },
   "file_extension": ".py",
   "mimetype": "text/x-python",
   "name": "python",
   "nbconvert_exporter": "python",
   "pygments_lexer": "ipython3",
   "version": "3.10.0"
  }
 },
 "nbformat": 4,
 "nbformat_minor": 5
}
